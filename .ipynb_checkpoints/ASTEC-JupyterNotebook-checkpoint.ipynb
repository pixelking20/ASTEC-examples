{
 "cells": [
  {
   "cell_type": "markdown",
   "metadata": {},
   "source": [
    "# Notebook with code that uses the lineages from Guignard et al."
   ]
  },
  {
   "cell_type": "markdown",
   "metadata": {},
   "source": [
    "## Import of the necessary libraries"
   ]
  },
  {
   "cell_type": "code",
   "execution_count": null,
   "metadata": {},
   "outputs": [],
   "source": [
    "import os\n",
    "from useful_functions import (get_symetric_volumes, plot_around_div,\n",
    "                              get_life_span, read_property_file,\n",
    "                              compute_neighbors_stability,\n",
    "                              get_ratio_mother_sisters_volume)\n",
    "from colormap import ColorMap\n",
    "from scipy import stats\n",
    "import numpy as np\n",
    "from matplotlib import pyplot as plt\n",
    "from matplotlib.ticker import ScalarFormatter\n",
    "%matplotlib inline"
   ]
  },
  {
   "cell_type": "markdown",
   "metadata": {},
   "source": [
    "## Loading the data\n",
    "\n",
    "The datasets can be retrieved [there](https://figshare.com/collections/Contact-area_dependent_cell_communications_and_the_morphological_invariance_of_ascidian_embryogenesis/4529990/2). The lineage and geometrical data are stored in the tar archives named `*_properties.tar.gz`. Within these archives there are a pickle (`.pkl`) and an xml (`.xml`) file which contain the information necessary for this notebook to work.\n",
    "\n",
    "Once these data downloaded, the function `read_property_file` allows to load such an xml or pickle file and returns a dictionary that maps a property name to the dictionary containing this propery:\n",
    "```python\n",
    "properties = {property_name(string): property_dict(dict), ... }\n",
    "```\n",
    "- `\"cell_lineage\"` is the lineage tree as a dictionary that maps a cell id at time $t$ to the `list` of its correspondant cell id(s) at time $t+1$.\n",
    "```python\n",
    "{mother_cell_id(int): [daughter_cell_id_1(int), ...], ...}\n",
    "```\n",
    "- `\"all_cells\"` is the list of all the cell ids:\n",
    "```python\n",
    "[cell_id(int), ...]\n",
    "```\n",
    "- `\"cell_history\"` is a dictionary that maps a cell id to the list of all the cell ids that represent the same cell (ids in time):\n",
    "```python\n",
    "{cell_id(int): [cell_id2(int), cell_id2(int), ...], ...}\n",
    "```\n",
    "- `\"cell_label_in_time\"` maps a time $t$ to the list of cells that exist at that time:\n",
    "```python\n",
    "{time(int): [cell_id1(int), cell_id2(int), ...], ...}\n",
    "```\n",
    "- The other dictionaries map a cell id to its associated values:\n",
    " - `\"cell_name\"` maps the names of the cells as defined by Conklin (after manual correction).\n",
    " - `\"cell_barycenter\"` maps the cell barycenters\n",
    " \n",
    " - `\"cell_fate\"`, `\"cell_fate_2\"` and `\"cell_fate_3\"` represent different fate mappings (`\"cell_fate_3\"` is the one used for this paper).\n",
    " - `\"cell_volume\"` maps the volume of the cells in voxels (computed as the sum of voxels inside the segmented cell).\n",
    " - `\"cell_contact_surface\"` maps the cell-cell surface of contacts in voxels (as described in Supp 5.2). `\"cell_contact_surface\"` is a dictionary of dictionaries:\n",
    "```python\n",
    "{cell_id(int): {cell_neighbour_id(int): area_of_contact(float), ...}, ... }\n",
    "```\n",
    "In this dictionary if `cell_neighbour_id//10**4==1` then this `cell_neighbour_id` represents the surface of contact to the outside.\n",
    "\n",
    "\n",
    "It is worth noticing that the cell id are implemented in a way that it is possible to extract the time it belongs too and the corresponding label in the image data:\n",
    "- `cell_id = t*10**4 + label`\n",
    "\n",
    "hence:\n",
    "- `label = cell_id%10**4` is the corresonding label in the image\n",
    "- `t = cell_id//10**4` is the corresponding time (note that // is the floor division)\n",
    "\n",
    "__SINCE THE AMOUNT OF DATA IS LARGE, THE LOADING TIME MIGHT TAKE SEVERAL MINUTES__"
   ]
  },
  {
   "cell_type": "markdown",
   "metadata": {},
   "source": [
    "### Paths definition"
   ]
  },
  {
   "cell_type": "code",
   "execution_count": null,
   "metadata": {},
   "outputs": [],
   "source": [
    "# Path to the data.\n",
    "# You need to download the data from the figshare link\n",
    "# specified above and put the xml/pkl file in the folder specified in the following line (Data by default)\n",
    "path_to_data = './Data/'\n",
    "\n",
    "# This is the path where the figures will be saved\n",
    "path_to_figures = './Outputs_figures/'"
   ]
  },
  {
   "cell_type": "markdown",
   "metadata": {},
   "source": [
    "### Build a color map from the different tissues in our datasets"
   ]
  },
  {
   "cell_type": "code",
   "execution_count": null,
   "metadata": {},
   "outputs": [],
   "source": [
    "## Building the color map\n",
    "tissue_order = ['Head Endoderm', '1st Endodermal Lineage',\n",
    "                '2nd Endodermal Lineage', 'Head Epidermis',\n",
    "                'Tail Epidermis', 'Germ Line',\n",
    "                'Mesenchyme', '1st Lineage, Tail Muscle',\n",
    "                '2nd Lineage, Tail Muscle', '1st Lineage, Notochord',\n",
    "                '2nd Lineage, Notochord',\n",
    "                'Trunk Lateral Cell',\n",
    "                'Trunk Ventral Cell',\n",
    "                'Anterior Dorsal Neural Plate',\n",
    "                'Anterior Ventral Neural Plate',\n",
    "                'Posterior Dorsal Neural Plate',\n",
    "                'Posterior Lateral Neural Plate',\n",
    "                'Posterior Ventral Neural Plate']\n",
    "CMapFates = ColorMap(tissue_order+['undeter'], 'rainbow')"
   ]
  },
  {
   "cell_type": "markdown",
   "metadata": {},
   "source": [
    "### Loading and preping the data"
   ]
  },
  {
   "cell_type": "code",
   "execution_count": null,
   "metadata": {},
   "outputs": [],
   "source": [
    "# Load the data, the output is the property file specified above\n",
    "properties = read_property_file(os.path.join(path_to_data + 'Astec-Pm10_properties.xml'))\n",
    "\n",
    "lin_tree = properties['cell_lineage']\n",
    "names = properties['cell_name']\n",
    "fates = properties['cell_fate']\n",
    "fates2 = properties['cell_fate_2']\n",
    "fates3 = properties['cell_fate_3']\n",
    "vol = properties['cell_volume']\n",
    "surf_ex = properties['cell_contact_surface']\n",
    "prob_cells = properties['problematic_cells']\n",
    "\n",
    "# Removing the potential problematic cells\n",
    "for c in prob_cells:\n",
    "    lin_tree.pop(c, None)\n",
    "\n",
    "# Building the inverse lineage tree (daughter cell -> mother cell)\n",
    "inv_lin_tree = {daught: mother for mother, daughters in lin_tree.items() for daught in daughters}\n",
    "\n",
    "# Building the cell surfaces\n",
    "surfaces = {cell:np.sum(list(neighbors.values())) for cell, neighbors in surf_ex.items()}\n",
    "\n",
    "# Building the compactness metric\n",
    "compactness = lambda V, S: (np.pi**(1/3)*(6*V)**(2/3))/S\n",
    "comp = {cell:compactness(vol[cell], surfaces[cell]) for cell in vol}"
   ]
  },
  {
   "cell_type": "markdown",
   "metadata": {},
   "source": [
    "## This is the start of my code for getting several values from the lineages.\n",
    "\n",
    "The variables that I will be collecting is the starting ID of a cell, the ID of the mother cell at lineage before it splits. The two ID's of the cells that the mother cell split into, and the time between the cell first appearing and when it became a mother cell. If a cell never split in the experiment, it returns the first cell ID. It then puts the last cellID of the cell in the second position of the array. It fills in the child ID's as zero and then gives the total time it was present in the experiment.\n",
    "\n",
    "After all the first cells and mother cells are collected, The code then does another loop through the new list we generated to get all the names and fates from the cell_names properties and goes through all three fates property arrays to collect all the fates infomation for each cell.\n",
    "\n",
    "All code and text previous to this markdown was already provided by Guignard et all at this repository [here](https://github.com/leoguignard/ASTEC-examples)."
   ]
  },
  {
   "cell_type": "code",
   "execution_count": null,
   "metadata": {},
   "outputs": [],
   "source": [
    "#array where cellIDs are removed while the loop is going through the lineage tree\n",
    "remaining_cells = lin_tree.copy()\n",
    "#instantiate the array so info can be appended to it\n",
    "cell_division_info = []\n",
    "\n",
    "for x in lin_tree:\n",
    "    #if the cell is not it remaining cells, it means the loop has already visited the cell and need to skip to the next cellID in the lineage tree\n",
    "    if x not in remaining_cells:\n",
    "        continue\n",
    "    #makes the first element in C the current cellID of the loop\n",
    "    c=[x]\n",
    "    #the try statement is for when the end of the lineage of a cell is reached. If a cell is never a mother cell, we go to the except clause and print 0's for the children\n",
    "    try:\n",
    "        #This goes through the lineage of a cell and waits for the lineage to either end with two cells or end with 0 cells.\n",
    "        #it checks the lineage of the last cellID in c\n",
    "        while len(lin_tree.get(c[-1], []))==1:\n",
    "            #if the lineage is 1. The loop adds the next cell in the lineage to the last position of c\n",
    "            c.append(lin_tree[c[-1]][0])\n",
    "            #removed the visited cell from remaining cells\n",
    "            del remaining_cells[c[-1]]\n",
    "        #this append is only called if the lineage tree returns a value of 2, so we can get the cellIDs from the lineage tree\n",
    "        cell_division_info.append([x, c[-1], lin_tree[c[-1]][0], lin_tree[c[-1]][1], len(c)])\n",
    "    #the except is called only if the cell has no next lineage. So the lineage ends and fill in 0's for the children\n",
    "    except KeyError:\n",
    "        cell_division_info.append([x, c[-1], 0, 0, len(c)])\n",
    "        \n",
    "#this is a new loop after we have all the cell division info. Once we have all the starting and mother cells, \n",
    "#we grab their names and fates from the arrays given in the xml file\n",
    "for x in range(len(cell_division_info)):\n",
    "    if cell_division_info[x][0] in names:\n",
    "        cell_division_info[x].append(names[cell_division_info[x][0]])\n",
    "    else:\n",
    "        cell_division_info[x].append(0)\n",
    "    if cell_division_info[x][0] in fates:\n",
    "        cell_division_info[x].append(fates[cell_division_info[x][0]])\n",
    "    else:\n",
    "        cell_division_info[x].append(0)\n",
    "    if cell_division_info[x][0] in fates2:\n",
    "        cell_division_info[x].append(fates2[cell_division_info[x][0]])\n",
    "    else:\n",
    "        cell_division_info[x].append(0)\n",
    "    if cell_division_info[x][0] in fates3:\n",
    "        cell_division_info[x].append(fates3[cell_division_info[x][0]])\n",
    "    else:\n",
    "        cell_division_info[x].append(0)"
   ]
  },
  {
   "cell_type": "markdown",
   "metadata": {},
   "source": [
    "This next cell imports the CSV module and writes the cell_division_info to a CSV file."
   ]
  },
  {
   "cell_type": "code",
   "execution_count": null,
   "metadata": {},
   "outputs": [],
   "source": [
    "import csv\n",
    "\n",
    "#establishes the headers for each column\n",
    "header = ['Beginning CellID', 'Mother_CellID/Last_CellID', 'Child1_CellID', 'Child2_CellID', 'Life of mother in t', 'the name of the Beginning cell', 'fate 1 of the Beginning cell', 'fate 2 of the Beginning cell', 'fate 3 of the Begining cell']\n",
    "\n",
    "with open('./CSVOutput/ASTECPM10Data.csv', 'w', newline = '') as f:\n",
    "    \n",
    "    writer = csv.writer(f)\n",
    "    \n",
    "    #writes in the header in the first row\n",
    "    writer.writerow(header)\n",
    "    \n",
    "    #writes a new row for each array in cell info\n",
    "    writer.writerows(cell_division_info)"
   ]
  }
 ],
 "metadata": {
  "kernelspec": {
   "display_name": "Python 3 (ipykernel)",
   "language": "python",
   "name": "python3"
  },
  "language_info": {
   "codemirror_mode": {
    "name": "ipython",
    "version": 3
   },
   "file_extension": ".py",
   "mimetype": "text/x-python",
   "name": "python",
   "nbconvert_exporter": "python",
   "pygments_lexer": "ipython3",
   "version": "3.9.5"
  }
 },
 "nbformat": 4,
 "nbformat_minor": 1
}
